{
 "cells": [
  {
   "cell_type": "code",
   "execution_count": 5,
   "metadata": {},
   "outputs": [],
   "source": [
    "import pandas as pd"
   ]
  },
  {
   "cell_type": "code",
   "execution_count": 6,
   "metadata": {},
   "outputs": [],
   "source": [
    "df = []"
   ]
  },
  {
   "cell_type": "code",
   "execution_count": 494,
   "metadata": {},
   "outputs": [
    {
     "name": "stdout",
     "output_type": "stream",
     "text": [
      "['Coffee & Conversation - Melton']\n",
      "['Geelong Parkinsons Support Group']\n",
      "['Coffee & Conversation - Darley']\n",
      "['Golden Wattle Carers Group']\n",
      "[\"Parkinson's Pakenham Support Group\"]\n",
      "['Bellarine Self Help Parkinsons Support Group']\n",
      "['Barwon Health Carer Support']\n",
      "['Woodend Lifestyle Carers Group Inc']\n",
      "[\"Bendigo Support Group of Parkinson's\"]\n",
      "['Traralgon Carers Support Group']\n",
      "['Shepparton Generalist Carers Group']\n",
      "['Stawell Caring for Family Caregivers']\n",
      "['Charlton and District Carers Support Group']\n",
      "['Kiewa Valley Carer Support Group']\n",
      "['Ouyen Carers Support Group']\n",
      "['Murtoa Carers Support Group']\n",
      "['Murtoa Carers Support Group']\n"
     ]
    }
   ],
   "source": [
    "with open('community list.csv', 'r') as csvFile:\n",
    "    reader = csv.reader(csvFile)\n",
    "    for row in reader:\n",
    "        df.append(*row)\n",
    "        print(row)\n",
    "csvFile.close()"
   ]
  },
  {
   "cell_type": "code",
   "execution_count": 495,
   "metadata": {},
   "outputs": [
    {
     "data": {
      "text/plain": [
       "['Coffee & Conversation - Melton',\n",
       " 'Geelong Parkinsons Support Group',\n",
       " 'Coffee & Conversation - Darley',\n",
       " 'Golden Wattle Carers Group',\n",
       " \"Parkinson's Pakenham Support Group\",\n",
       " 'Bellarine Self Help Parkinsons Support Group',\n",
       " 'Barwon Health Carer Support',\n",
       " 'Woodend Lifestyle Carers Group Inc',\n",
       " \"Bendigo Support Group of Parkinson's\",\n",
       " 'Traralgon Carers Support Group',\n",
       " 'Shepparton Generalist Carers Group',\n",
       " 'Stawell Caring for Family Caregivers',\n",
       " 'Charlton and District Carers Support Group',\n",
       " 'Kiewa Valley Carer Support Group',\n",
       " 'Ouyen Carers Support Group',\n",
       " 'Murtoa Carers Support Group',\n",
       " 'Murtoa Carers Support Group']"
      ]
     },
     "execution_count": 495,
     "metadata": {},
     "output_type": "execute_result"
    }
   ],
   "source": [
    "df"
   ]
  },
  {
   "cell_type": "code",
   "execution_count": null,
   "metadata": {},
   "outputs": [],
   "source": []
  },
  {
   "cell_type": "code",
   "execution_count": 7,
   "metadata": {},
   "outputs": [],
   "source": [
    "import requests, json "
   ]
  },
  {
   "cell_type": "code",
   "execution_count": 8,
   "metadata": {},
   "outputs": [],
   "source": [
    "api_key = 'google API key'"
   ]
  },
  {
   "cell_type": "code",
   "execution_count": 9,
   "metadata": {},
   "outputs": [],
   "source": [
    "url = \"https://maps.googleapis.com/maps/api/place/textsearch/json?\""
   ]
  },
  {
   "cell_type": "code",
   "execution_count": 10,
   "metadata": {},
   "outputs": [],
   "source": [
    "for each in df:\n",
    "    query = each\n",
    "    r = requests.get(url + 'query=' + query + '&key=' + api_key) \n",
    "    x = r.json()\n",
    "    y = x['results']\n",
    "    if len(y) != 0:\n",
    "        row =[y[0]['name'],y[0]['formatted_address'], ', '.join(y[0]['types']), y[0]['rating'], 'Melbourne', 'Australia', y[0]['geometry']['location']['lat'], y[0]['geometry']['location']['lng']]\n",
    "        with open('location_2.csv', 'a') as csvFile:\n",
    "            writer = csv.writer(csvFile)\n",
    "            writer.writerow(row)\n",
    "        csvFile.close()\n",
    "    else:\n",
    "        continue"
   ]
  },
  {
   "cell_type": "code",
   "execution_count": 22,
   "metadata": {},
   "outputs": [
    {
     "name": "stdout",
     "output_type": "stream",
     "text": [
      "Search query: dementia\n"
     ]
    }
   ],
   "source": [
    "query = input('Search query: ') "
   ]
  },
  {
   "cell_type": "code",
   "execution_count": 23,
   "metadata": {},
   "outputs": [],
   "source": [
    "r = requests.get(url + 'query=' + query +\n",
    "                        '&key=' + api_key) "
   ]
  },
  {
   "cell_type": "code",
   "execution_count": 24,
   "metadata": {},
   "outputs": [],
   "source": [
    "x = r.json()"
   ]
  },
  {
   "cell_type": "code",
   "execution_count": 25,
   "metadata": {},
   "outputs": [],
   "source": [
    "y = x['results']"
   ]
  },
  {
   "cell_type": "code",
   "execution_count": 26,
   "metadata": {},
   "outputs": [
    {
     "name": "stdout",
     "output_type": "stream",
     "text": [
      "Dementia Australia\n",
      "Dementia Australia\n",
      "BASScare Maranoa Dementia Day Centre\n",
      "Dementia Australia\n",
      "Caladenia Dementia Care\n",
      "HammondCare\n",
      "HammondCare Caulfield\n",
      "Fronditha Care Support Hub\n",
      "The Haven Day Centre\n",
      "Churches of Christ Care Oak Towers Aged Care Service\n",
      "Estia Health Oakleigh East\n",
      "Dementia Australia\n",
      "Dementia Australia\n",
      "Aveo Freedom Aged Care Glen Waverley\n",
      "Japara Elanora Aged Care Home\n",
      "Vermont Aged Care\n",
      "BlueCross Karinya Grove\n",
      "Bayside Aged Care\n",
      "VMCH Carinya Respite Service\n",
      "Home Care Assistance South East Melbourne\n"
     ]
    }
   ],
   "source": [
    "for i in range(len(y)): \n",
    "    print(y[i]['name']) "
   ]
  },
  {
   "cell_type": "code",
   "execution_count": 27,
   "metadata": {},
   "outputs": [],
   "source": [
    "with open('cloes.json', 'w') as outfile:  \n",
    "    json.dump(y, outfile,indent=4)"
   ]
  },
  {
   "cell_type": "code",
   "execution_count": 17,
   "metadata": {
    "scrolled": true
   },
   "outputs": [
    {
     "data": {
      "text/plain": [
       "1"
      ]
     },
     "execution_count": 17,
     "metadata": {},
     "output_type": "execute_result"
    }
   ],
   "source": [
    "len(y)"
   ]
  },
  {
   "cell_type": "code",
   "execution_count": 18,
   "metadata": {},
   "outputs": [],
   "source": [
    "k=0\n",
    "row =[y[k]['name'],y[k]['formatted_address'], ', '.join(y[k]['types']), y[k]['rating'], 'Melbourne', 'Australia', y[k]['geometry']['location']['lat'], y[k]['geometry']['location']['lng']]"
   ]
  },
  {
   "cell_type": "code",
   "execution_count": 19,
   "metadata": {},
   "outputs": [
    {
     "ename": "NameError",
     "evalue": "name 'csv' is not defined",
     "output_type": "error",
     "traceback": [
      "\u001b[1;31m---------------------------------------------------------------------------\u001b[0m",
      "\u001b[1;31mNameError\u001b[0m                                 Traceback (most recent call last)",
      "\u001b[1;32m<ipython-input-19-be1b4e9872ed>\u001b[0m in \u001b[0;36m<module>\u001b[1;34m\u001b[0m\n\u001b[0;32m      1\u001b[0m \u001b[1;32mwith\u001b[0m \u001b[0mopen\u001b[0m\u001b[1;33m(\u001b[0m\u001b[1;34m'location_2.csv'\u001b[0m\u001b[1;33m,\u001b[0m \u001b[1;34m'a'\u001b[0m\u001b[1;33m)\u001b[0m \u001b[1;32mas\u001b[0m \u001b[0mcsvFile\u001b[0m\u001b[1;33m:\u001b[0m\u001b[1;33m\u001b[0m\u001b[1;33m\u001b[0m\u001b[0m\n\u001b[1;32m----> 2\u001b[1;33m     \u001b[0mwriter\u001b[0m \u001b[1;33m=\u001b[0m \u001b[0mcsv\u001b[0m\u001b[1;33m.\u001b[0m\u001b[0mwriter\u001b[0m\u001b[1;33m(\u001b[0m\u001b[0mcsvFile\u001b[0m\u001b[1;33m)\u001b[0m\u001b[1;33m\u001b[0m\u001b[1;33m\u001b[0m\u001b[0m\n\u001b[0m\u001b[0;32m      3\u001b[0m     \u001b[0mwriter\u001b[0m\u001b[1;33m.\u001b[0m\u001b[0mwriterow\u001b[0m\u001b[1;33m(\u001b[0m\u001b[0mrow\u001b[0m\u001b[1;33m)\u001b[0m\u001b[1;33m\u001b[0m\u001b[1;33m\u001b[0m\u001b[0m\n\u001b[0;32m      4\u001b[0m \u001b[0mcsvFile\u001b[0m\u001b[1;33m.\u001b[0m\u001b[0mclose\u001b[0m\u001b[1;33m(\u001b[0m\u001b[1;33m)\u001b[0m\u001b[1;33m\u001b[0m\u001b[1;33m\u001b[0m\u001b[0m\n",
      "\u001b[1;31mNameError\u001b[0m: name 'csv' is not defined"
     ]
    }
   ],
   "source": [
    "with open('location_2.csv', 'a') as csvFile:\n",
    "    writer = csv.writer(csvFile)\n",
    "    writer.writerow(row)\n",
    "csvFile.close()"
   ]
  },
  {
   "cell_type": "code",
   "execution_count": null,
   "metadata": {},
   "outputs": [],
   "source": []
  },
  {
   "cell_type": "code",
   "execution_count": null,
   "metadata": {},
   "outputs": [],
   "source": []
  },
  {
   "cell_type": "code",
   "execution_count": null,
   "metadata": {},
   "outputs": [],
   "source": []
  },
  {
   "cell_type": "code",
   "execution_count": 20,
   "metadata": {},
   "outputs": [],
   "source": [
    "import csv"
   ]
  },
  {
   "cell_type": "code",
   "execution_count": 21,
   "metadata": {},
   "outputs": [
    {
     "data": {
      "text/plain": [
       "('98 Riversdale Rd, Hawthorn VIC 3122, Australia',\n",
       " ['point_of_interest', 'establishment'])"
      ]
     },
     "execution_count": 21,
     "metadata": {},
     "output_type": "execute_result"
    }
   ],
   "source": [
    "y[0]['formatted_address'],y[0]['types']"
   ]
  },
  {
   "cell_type": "code",
   "execution_count": 417,
   "metadata": {},
   "outputs": [],
   "source": [
    "a=y[0]['types']"
   ]
  },
  {
   "cell_type": "code",
   "execution_count": 418,
   "metadata": {},
   "outputs": [
    {
     "data": {
      "text/plain": [
       "145.166266"
      ]
     },
     "execution_count": 418,
     "metadata": {},
     "output_type": "execute_result"
    }
   ],
   "source": [
    "y[0]['geometry']['location']['lng']"
   ]
  },
  {
   "cell_type": "code",
   "execution_count": 419,
   "metadata": {},
   "outputs": [
    {
     "data": {
      "text/plain": [
       "1"
      ]
     },
     "execution_count": 419,
     "metadata": {},
     "output_type": "execute_result"
    }
   ],
   "source": [
    "y[0]['rating']"
   ]
  },
  {
   "cell_type": "code",
   "execution_count": 420,
   "metadata": {},
   "outputs": [
    {
     "name": "stdout",
     "output_type": "stream",
     "text": [
      "['point_of_interest', 'establishment']\n"
     ]
    }
   ],
   "source": [
    "print(y[0]['types'])"
   ]
  },
  {
   "cell_type": "code",
   "execution_count": 421,
   "metadata": {},
   "outputs": [
    {
     "name": "stdout",
     "output_type": "stream",
     "text": [
      "point_of_interest, establishment\n"
     ]
    }
   ],
   "source": [
    "print(*a,sep = \", \")"
   ]
  },
  {
   "cell_type": "code",
   "execution_count": 422,
   "metadata": {},
   "outputs": [],
   "source": [
    "import csv\n",
    "\n",
    "with open('employee_file.csv', mode='w') as employee_file:\n",
    "    employee_writer = csv.writer(employee_file, delimiter=',', quotechar='\"', quoting=csv.QUOTE_MINIMAL)\n",
    "    employee_writer.writerow(['Name','Location', 'type', 'rating', 'city', 'country', 'latitude', 'longitude'])\n",
    "    for i in range(len(y)):\n",
    "        employee_writer.writerow([y[i]['name'],y[i]['formatted_address'], ', '.join(y[i]['types']), y[i]['rating'], 'Melbourne', 'Australia', y[i]['geometry']['location']['lat'], y[i]['geometry']['location']['lng']])"
   ]
  },
  {
   "cell_type": "code",
   "execution_count": 423,
   "metadata": {},
   "outputs": [
    {
     "data": {
      "text/plain": [
       "range(0, 1)"
      ]
     },
     "execution_count": 423,
     "metadata": {},
     "output_type": "execute_result"
    }
   ],
   "source": [
    "range(len(y))"
   ]
  },
  {
   "cell_type": "code",
   "execution_count": null,
   "metadata": {},
   "outputs": [],
   "source": []
  },
  {
   "cell_type": "code",
   "execution_count": 424,
   "metadata": {},
   "outputs": [],
   "source": [
    "row = ['4', ' Danny', ' New York']\n",
    "with open('location_2.csv', 'a') as csvFile:\n",
    "    writer = csv.writer(csvFile)\n",
    "    writer.writerow(row)\n",
    "csvFile.close()"
   ]
  },
  {
   "cell_type": "code",
   "execution_count": null,
   "metadata": {},
   "outputs": [],
   "source": []
  }
 ],
 "metadata": {
  "kernelspec": {
   "display_name": "Python 3",
   "language": "python",
   "name": "python3"
  },
  "language_info": {
   "codemirror_mode": {
    "name": "ipython",
    "version": 3
   },
   "file_extension": ".py",
   "mimetype": "text/x-python",
   "name": "python",
   "nbconvert_exporter": "python",
   "pygments_lexer": "ipython3",
   "version": "3.7.1"
  }
 },
 "nbformat": 4,
 "nbformat_minor": 2
}
